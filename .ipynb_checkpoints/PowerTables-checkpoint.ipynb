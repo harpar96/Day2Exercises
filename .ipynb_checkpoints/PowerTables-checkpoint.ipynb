{
 "cells": [
  {
   "cell_type": "code",
   "execution_count": 23,
   "id": "c03d6cc5-b0ca-4d79-a115-3ffc88aec506",
   "metadata": {},
   "outputs": [
    {
     "ename": "IndentationError",
     "evalue": "expected an indented block after 'for' statement on line 14 (1829063352.py, line 15)",
     "output_type": "error",
     "traceback": [
      "\u001b[1;36m  Cell \u001b[1;32mIn[23], line 15\u001b[1;36m\u001b[0m\n\u001b[1;33m    result = ourNum * x.\u001b[0m\n\u001b[1;37m    ^\u001b[0m\n\u001b[1;31mIndentationError\u001b[0m\u001b[1;31m:\u001b[0m expected an indented block after 'for' statement on line 14\n"
     ]
    }
   ],
   "source": [
    "print(\"Learn your squares and cubes\")\n",
    "moveForward = \"Y\"\n",
    "while moveForward.lower() == \"y\":\n",
    "    heading = int(input(\"Enter an integer: \"))\n",
    "    print(\"Number   Squared     Cubed\")\n",
    "    print(\"======   =======     =====\")\n",
    "    for i in range(heading):\n",
    "        i+=1\n",
    "        print(str(i) + \"          \" + str(i**2) + \"          \" + str(i**3))\n",
    "    moveForward = input(\"Continue? (y/n)\")"
   ]
  }
 ],
 "metadata": {
  "kernelspec": {
   "display_name": "Python 3 (ipykernel)",
   "language": "python",
   "name": "python3"
  },
  "language_info": {
   "codemirror_mode": {
    "name": "ipython",
    "version": 3
   },
   "file_extension": ".py",
   "mimetype": "text/x-python",
   "name": "python",
   "nbconvert_exporter": "python",
   "pygments_lexer": "ipython3",
   "version": "3.11.5"
  }
 },
 "nbformat": 4,
 "nbformat_minor": 5
}
