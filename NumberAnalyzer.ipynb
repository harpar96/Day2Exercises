{
 "cells": [
  {
   "cell_type": "code",
   "execution_count": 3,
   "id": "57f5c784-64da-42e7-8abe-caf6b0024463",
   "metadata": {},
   "outputs": [
    {
     "name": "stdin",
     "output_type": "stream",
     "text": [
      "Enter your name:  Harpar\n",
      "Enter an integer between 1 and 100 inclusive:  1\n"
     ]
    },
    {
     "name": "stdout",
     "output_type": "stream",
     "text": [
      "1 is Odd and less than 60.\n"
     ]
    },
    {
     "name": "stdin",
     "output_type": "stream",
     "text": [
      "Do you want to enter another number? (yes/no):  no\n"
     ]
    },
    {
     "name": "stdout",
     "output_type": "stream",
     "text": [
      "Thank you, Harpar, for using the Number Analyzer - Decision Maker!\n"
     ]
    }
   ],
   "source": [
    "def main():\n",
    "    name = input(\"Enter your name: \")\n",
    "    \n",
    "    while True:\n",
    "        try:\n",
    "            num = int(input(\"Enter an integer between 1 and 100 inclusive: \"))\n",
    "            if 1 <= num <= 100:\n",
    "                if num % 2 == 0:\n",
    "                    if 2 <= num <= 24:\n",
    "                        print(f\"{num} is Even and less than 25.\")\n",
    "                    elif 26 <= num <= 60:\n",
    "                        print(f\"{num} is Even and between 26 and 60 inclusive.\")\n",
    "                    else:\n",
    "                        print(f\"{num} is Even and greater than 60.\")\n",
    "                else:\n",
    "                    if num < 60:\n",
    "                        print(f\"{num} is Odd and less than 60.\")\n",
    "                    else:\n",
    "                        print(f\"{num} is Odd and greater than 60.\")\n",
    "            else:\n",
    "                print(\"Please enter a positive integer between 1 and 100.\")\n",
    "        except ValueError:\n",
    "            print(\"Please enter a valid integer.\")\n",
    "\n",
    "        choice = input(\"Do you want to enter another number? (yes/no): \")\n",
    "        if choice.lower() != 'yes':\n",
    "            break\n",
    "\n",
    "    print(f\"Thank you, {name}, for using the Number Analyzer - Decision Maker!\")\n",
    "\n",
    "if __name__ == \"__main__\":\n",
    "    main()\n",
    "\n",
    "    \n",
    "   "
   ]
  }
 ],
 "metadata": {
  "kernelspec": {
   "display_name": "Python 3 (ipykernel)",
   "language": "python",
   "name": "python3"
  },
  "language_info": {
   "codemirror_mode": {
    "name": "ipython",
    "version": 3
   },
   "file_extension": ".py",
   "mimetype": "text/x-python",
   "name": "python",
   "nbconvert_exporter": "python",
   "pygments_lexer": "ipython3",
   "version": "3.11.5"
  }
 },
 "nbformat": 4,
 "nbformat_minor": 5
}
