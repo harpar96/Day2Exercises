{
 "cells": [
  {
   "cell_type": "code",
   "execution_count": null,
   "id": "c03d6cc5-b0ca-4d79-a115-3ffc88aec506",
   "metadata": {},
   "outputs": [
    {
     "name": "stdout",
     "output_type": "stream",
     "text": [
      "Learn your squares and cubes\n"
     ]
    },
    {
     "name": "stdin",
     "output_type": "stream",
     "text": [
      "Enter an integer:  4\n"
     ]
    },
    {
     "name": "stdout",
     "output_type": "stream",
     "text": [
      "Number   Squared     Cubed\n",
      "======   =======     =====\n",
      "1          1          1\n",
      "2          4          8\n",
      "3          9          27\n",
      "4          16          64\n"
     ]
    }
   ],
   "source": [
    "print(\"Learn your squares and cubes\")\n",
    "moveForward = \"Y\"\n",
    "while moveForward.lower() == \"y\":\n",
    "    heading = int(input(\"Enter an integer: \"))\n",
    "    print(\"Number   Squared     Cubed\")\n",
    "    print(\"======   =======     =====\")\n",
    "    for i in range(heading):\n",
    "        i+=1\n",
    "        print(str(i) + \"          \" + str(i**2) + \"          \" + str(i**3))\n",
    "    moveForward = input(\"Continue? (y/n)\")"
   ]
  },
  {
   "cell_type": "code",
   "execution_count": null,
   "id": "ee423ce2-c095-4f93-a52d-6cc1683de135",
   "metadata": {},
   "outputs": [],
   "source": []
  }
 ],
 "metadata": {
  "kernelspec": {
   "display_name": "Python 3 (ipykernel)",
   "language": "python",
   "name": "python3"
  },
  "language_info": {
   "codemirror_mode": {
    "name": "ipython",
    "version": 3
   },
   "file_extension": ".py",
   "mimetype": "text/x-python",
   "name": "python",
   "nbconvert_exporter": "python",
   "pygments_lexer": "ipython3",
   "version": "3.11.5"
  }
 },
 "nbformat": 4,
 "nbformat_minor": 5
}
